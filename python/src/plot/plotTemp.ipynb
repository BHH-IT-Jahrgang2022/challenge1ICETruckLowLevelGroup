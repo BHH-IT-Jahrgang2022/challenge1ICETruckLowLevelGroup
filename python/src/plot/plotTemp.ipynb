{
 "cells": [
  {
   "cell_type": "markdown",
   "metadata": {},
   "source": [
    "# Data insights\n",
    "\n",
    "This notebook includes some methods and plots to explore the data collected via the temperature sensors and general actors to visualize the change / movement of temperature to enable further improvement of the algorithms that control all components"
   ]
  },
  {
   "cell_type": "markdown",
   "metadata": {},
   "source": [
    "## The Packages used\n",
    "\n",
    "To easily work with the given data and REST Api, some packages are needed that improve dataplotting and collecting. Additionally, some global variables are initialized here that later will be used."
   ]
  },
  {
   "cell_type": "code",
   "execution_count": 1,
   "metadata": {},
   "outputs": [],
   "source": [
    "import matplotlib.pyplot as plt\n",
    "import pandas as pd\n",
    "import requests\n",
    "import json"
   ]
  },
  {
   "cell_type": "code",
   "execution_count": 6,
   "metadata": {},
   "outputs": [],
   "source": [
    "url_data = \"https://api.alpaka.fyi/get_json\"\n",
    "url_motor_data = \"https://api.alpaka.fyi/get_motor\"\n",
    "filepath = \"./data/\""
   ]
  },
  {
   "cell_type": "markdown",
   "metadata": {},
   "source": [
    "## The Dataset\n",
    "\n",
    "### Temperature Sensors\n",
    "\n",
    "The data is provided by a REST Api with the following layout:\n",
    "\n",
    "Name | API name | Datatype\n",
    "---- | ---- | ----\n",
    "Temperature | temperatur | Float\n",
    "Time recorded | zeitpunkt | Unix timestamp\n",
    "Sensor ID | sensor_id | Int\n",
    "Sensor Name | sensor_name | String\n",
    "\n",
    "In json format the data looks like this\n",
    "\n",
    "``` json\n",
    "{\n",
    "    \"sensor_id\": 1,\n",
    "    \"sensor_name\": \"Sensor1\",\n",
    "    \"temperatur\": 25.0,\n",
    "    \"zeitpunkt\": 123456545\n",
    "}\n",
    "```\n",
    "\n",
    "### Fan / Servo\n",
    "\n",
    "The servo / fan data is provided by the REST Api in the following json layout\n",
    "\n",
    "``` json\n",
    "{\n",
    "    \"motor_id\": 1,\n",
    "    \"type\": \"servo\",\n",
    "    \"setting\": 255\n",
    "}\n",
    "```\n",
    "\n",
    "The following table also explains the provided data in more details\n",
    "\n",
    "Name | API name | Datatype | Meaning\n",
    "---- | ---- | ---- | ---- \n",
    "Motor ID | motor_id | Int | ID of the servo / fan motor\n",
    "Type | type | String | Type (name) of the motor; is either fan or servo\n",
    "Set speed / position | setting | int | if a servo: Set position of the servo in steps (0...8 in 12.5° ingrements); if a fan: Speed of the fan (0...255)"
   ]
  },
  {
   "cell_type": "markdown",
   "metadata": {},
   "source": [
    "## Fetching the data from the server and store in file\n",
    "\n",
    "The API is available via the following URL: `api.alpaka.fyi`.\n",
    "\n",
    "### Fetch temp data and store it\n",
    "\n",
    "To receive all the temperature data stored in the database, we can use the `/get_json` endpoint."
   ]
  },
  {
   "cell_type": "code",
   "execution_count": 5,
   "metadata": {},
   "outputs": [],
   "source": [
    "response = requests.get(url_data)\n",
    "temp_data_json = response.json()\n",
    "\n",
    "unique_sensors = []\n",
    "sensors_list = {}\n",
    "\n",
    "for d in temp_data_json:\n",
    "    if not d['sensor_id'] in unique_sensors:\n",
    "        unique_sensors.append(d['sensor_id'])\n",
    "        sensors_list[d['sensor_id']] = []\n",
    "\n",
    "    sensors_list[d['sensor_id']].append(d)\n",
    "\n",
    "for id in sensors_list:\n",
    "    file = open(filepath + \"temp_data_\" + str(id) + \".json\", \"w\")\n",
    "    file.write(json.dumps(sensors_list[id]))\n",
    "    file.close()"
   ]
  },
  {
   "cell_type": "markdown",
   "metadata": {},
   "source": [
    "### Fetch motor data and store it to disk\n",
    "\n",
    "To receive all the motor data stored in the database, we can use the /get_motor endpoint."
   ]
  },
  {
   "cell_type": "code",
   "execution_count": 7,
   "metadata": {},
   "outputs": [],
   "source": [
    "response = requests.get(url_motor_data)\n",
    "motor_data_json = response.json()\n",
    "\n",
    "unique_motors = []\n",
    "motors_list = {}\n",
    "\n",
    "for d in motor_data_json:\n",
    "    if not d['motor_id'] in unique_motors:\n",
    "        unique_motors.append(d['motor_id'])\n",
    "        motors_list[d['motor_id']] = []\n",
    "    \n",
    "    motors_list[d['motor_id']].append(d)\n",
    "    \n",
    "for id in motors_list:\n",
    "    file = open(filepath + \"motor_data_\" + str(id) + \".json\", \"w\")\n",
    "    file.write(json.dumps(motors_list[id]))\n",
    "    file.close()"
   ]
  },
  {
   "cell_type": "markdown",
   "metadata": {},
   "source": [
    "### Loading the data into pandas"
   ]
  },
  {
   "cell_type": "code",
   "execution_count": 5,
   "metadata": {
    "scrolled": true
   },
   "outputs": [
    {
     "data": {
      "text/html": [
       "<div>\n",
       "<style scoped>\n",
       "    .dataframe tbody tr th:only-of-type {\n",
       "        vertical-align: middle;\n",
       "    }\n",
       "\n",
       "    .dataframe tbody tr th {\n",
       "        vertical-align: top;\n",
       "    }\n",
       "\n",
       "    .dataframe thead th {\n",
       "        text-align: right;\n",
       "    }\n",
       "</style>\n",
       "<table border=\"1\" class=\"dataframe\">\n",
       "  <thead>\n",
       "    <tr style=\"text-align: right;\">\n",
       "      <th></th>\n",
       "      <th>sensor_id</th>\n",
       "      <th>sensor_name</th>\n",
       "      <th>temperatur</th>\n",
       "      <th>zeitpunkt</th>\n",
       "    </tr>\n",
       "  </thead>\n",
       "  <tbody>\n",
       "    <tr>\n",
       "      <th>0</th>\n",
       "      <td>3</td>\n",
       "      <td>sensors/ESP32Sense3</td>\n",
       "      <td>25.100000</td>\n",
       "      <td>1687424337</td>\n",
       "    </tr>\n",
       "    <tr>\n",
       "      <th>1</th>\n",
       "      <td>3</td>\n",
       "      <td>sensors/ESP32Sense3</td>\n",
       "      <td>25.100000</td>\n",
       "      <td>1687424338</td>\n",
       "    </tr>\n",
       "    <tr>\n",
       "      <th>2</th>\n",
       "      <td>3</td>\n",
       "      <td>sensors/ESP32Sense3</td>\n",
       "      <td>25.100000</td>\n",
       "      <td>1687424339</td>\n",
       "    </tr>\n",
       "    <tr>\n",
       "      <th>3</th>\n",
       "      <td>3</td>\n",
       "      <td>sensors/ESP32Sense3</td>\n",
       "      <td>25.100000</td>\n",
       "      <td>1687424340</td>\n",
       "    </tr>\n",
       "    <tr>\n",
       "      <th>4</th>\n",
       "      <td>3</td>\n",
       "      <td>sensors/ESP32Sense3</td>\n",
       "      <td>25.100000</td>\n",
       "      <td>1687424341</td>\n",
       "    </tr>\n",
       "    <tr>\n",
       "      <th>...</th>\n",
       "      <td>...</td>\n",
       "      <td>...</td>\n",
       "      <td>...</td>\n",
       "      <td>...</td>\n",
       "    </tr>\n",
       "    <tr>\n",
       "      <th>73</th>\n",
       "      <td>3</td>\n",
       "      <td>sensors/ESP32Sense3</td>\n",
       "      <td>25.799999</td>\n",
       "      <td>1687427532</td>\n",
       "    </tr>\n",
       "    <tr>\n",
       "      <th>74</th>\n",
       "      <td>3</td>\n",
       "      <td>sensors/ESP32Sense3</td>\n",
       "      <td>25.799999</td>\n",
       "      <td>1687427533</td>\n",
       "    </tr>\n",
       "    <tr>\n",
       "      <th>75</th>\n",
       "      <td>3</td>\n",
       "      <td>sensors/ESP32Sense3</td>\n",
       "      <td>25.799999</td>\n",
       "      <td>1687427535</td>\n",
       "    </tr>\n",
       "    <tr>\n",
       "      <th>76</th>\n",
       "      <td>3</td>\n",
       "      <td>sensors/ESP32Sense3</td>\n",
       "      <td>25.799999</td>\n",
       "      <td>1687427536</td>\n",
       "    </tr>\n",
       "    <tr>\n",
       "      <th>77</th>\n",
       "      <td>3</td>\n",
       "      <td>sensors/ESP32Sense3</td>\n",
       "      <td>25.799999</td>\n",
       "      <td>1687427537</td>\n",
       "    </tr>\n",
       "  </tbody>\n",
       "</table>\n",
       "<p>78 rows × 4 columns</p>\n",
       "</div>"
      ],
      "text/plain": [
       "    sensor_id          sensor_name  temperatur   zeitpunkt\n",
       "0           3  sensors/ESP32Sense3   25.100000  1687424337\n",
       "1           3  sensors/ESP32Sense3   25.100000  1687424338\n",
       "2           3  sensors/ESP32Sense3   25.100000  1687424339\n",
       "3           3  sensors/ESP32Sense3   25.100000  1687424340\n",
       "4           3  sensors/ESP32Sense3   25.100000  1687424341\n",
       "..        ...                  ...         ...         ...\n",
       "73          3  sensors/ESP32Sense3   25.799999  1687427532\n",
       "74          3  sensors/ESP32Sense3   25.799999  1687427533\n",
       "75          3  sensors/ESP32Sense3   25.799999  1687427535\n",
       "76          3  sensors/ESP32Sense3   25.799999  1687427536\n",
       "77          3  sensors/ESP32Sense3   25.799999  1687427537\n",
       "\n",
       "[78 rows x 4 columns]"
      ]
     },
     "execution_count": 5,
     "metadata": {},
     "output_type": "execute_result"
    }
   ],
   "source": [
    "data_sense_1 = pd.read_json(filepath + \"temp_data_1.json\")\n",
    "data_sense_2 = pd.read_json(filepath + \"temp_data_2.json\")\n",
    "data_sense_3 = pd.read_json(filepath + \"temp_data_3.json\")\n",
    "\n",
    "data_sense_3"
   ]
  },
  {
   "cell_type": "code",
   "execution_count": null,
   "metadata": {},
   "outputs": [],
   "source": [
    "data_motor_1 = pd.read_json(filepath + \"motor_data_1.json\")\n",
    "data_motor_2 = pd.read_json(filepath + \"motor_data_2.json\")\n",
    "\n",
    "data_motor_1"
   ]
  },
  {
   "cell_type": "markdown",
   "metadata": {},
   "source": [
    "## Plot the data with matplotlib"
   ]
  },
  {
   "cell_type": "code",
   "execution_count": 6,
   "metadata": {},
   "outputs": [
    {
     "data": {
      "text/html": [
       "<div>\n",
       "<style scoped>\n",
       "    .dataframe tbody tr th:only-of-type {\n",
       "        vertical-align: middle;\n",
       "    }\n",
       "\n",
       "    .dataframe tbody tr th {\n",
       "        vertical-align: top;\n",
       "    }\n",
       "\n",
       "    .dataframe thead th {\n",
       "        text-align: right;\n",
       "    }\n",
       "</style>\n",
       "<table border=\"1\" class=\"dataframe\">\n",
       "  <thead>\n",
       "    <tr style=\"text-align: right;\">\n",
       "      <th></th>\n",
       "      <th>Time</th>\n",
       "      <th>Temp</th>\n",
       "    </tr>\n",
       "  </thead>\n",
       "  <tbody>\n",
       "    <tr>\n",
       "      <th>0</th>\n",
       "      <td>1687424337</td>\n",
       "      <td>25.100000</td>\n",
       "    </tr>\n",
       "    <tr>\n",
       "      <th>1</th>\n",
       "      <td>1687424338</td>\n",
       "      <td>25.100000</td>\n",
       "    </tr>\n",
       "    <tr>\n",
       "      <th>2</th>\n",
       "      <td>1687424339</td>\n",
       "      <td>25.100000</td>\n",
       "    </tr>\n",
       "    <tr>\n",
       "      <th>3</th>\n",
       "      <td>1687424340</td>\n",
       "      <td>25.100000</td>\n",
       "    </tr>\n",
       "    <tr>\n",
       "      <th>4</th>\n",
       "      <td>1687424341</td>\n",
       "      <td>25.100000</td>\n",
       "    </tr>\n",
       "    <tr>\n",
       "      <th>...</th>\n",
       "      <td>...</td>\n",
       "      <td>...</td>\n",
       "    </tr>\n",
       "    <tr>\n",
       "      <th>73</th>\n",
       "      <td>1687427532</td>\n",
       "      <td>25.799999</td>\n",
       "    </tr>\n",
       "    <tr>\n",
       "      <th>74</th>\n",
       "      <td>1687427533</td>\n",
       "      <td>25.799999</td>\n",
       "    </tr>\n",
       "    <tr>\n",
       "      <th>75</th>\n",
       "      <td>1687427535</td>\n",
       "      <td>25.799999</td>\n",
       "    </tr>\n",
       "    <tr>\n",
       "      <th>76</th>\n",
       "      <td>1687427536</td>\n",
       "      <td>25.799999</td>\n",
       "    </tr>\n",
       "    <tr>\n",
       "      <th>77</th>\n",
       "      <td>1687427537</td>\n",
       "      <td>25.799999</td>\n",
       "    </tr>\n",
       "  </tbody>\n",
       "</table>\n",
       "<p>78 rows × 2 columns</p>\n",
       "</div>"
      ],
      "text/plain": [
       "          Time       Temp\n",
       "0   1687424337  25.100000\n",
       "1   1687424338  25.100000\n",
       "2   1687424339  25.100000\n",
       "3   1687424340  25.100000\n",
       "4   1687424341  25.100000\n",
       "..         ...        ...\n",
       "73  1687427532  25.799999\n",
       "74  1687427533  25.799999\n",
       "75  1687427535  25.799999\n",
       "76  1687427536  25.799999\n",
       "77  1687427537  25.799999\n",
       "\n",
       "[78 rows x 2 columns]"
      ]
     },
     "execution_count": 6,
     "metadata": {},
     "output_type": "execute_result"
    }
   ],
   "source": [
    "plottable_sense_1 = pd.DataFrame({\n",
    "    'Time': data_sense_1[\"zeitpunkt\"], \n",
    "    'Temp': data_sense_1[\"temperatur\"]\n",
    "})\n",
    "\n",
    "plottable_sense_1\n",
    "\n",
    "plottable_sense_2 = pd.DataFrame({\n",
    "    'Time': data_sense_2[\"zeitpunkt\"], \n",
    "    'Temp': data_sense_2[\"temperatur\"]\n",
    "})\n",
    "\n",
    "plottable_sense_2\n",
    "\n",
    "plottable_sense_3 = pd.DataFrame({\n",
    "    'Time': data_sense_3[\"zeitpunkt\"], \n",
    "    'Temp': data_sense_3[\"temperatur\"]\n",
    "})\n",
    "\n",
    "plottable_sense_3"
   ]
  },
  {
   "cell_type": "markdown",
   "metadata": {},
   "source": [
    "### Temperature curve of sensor 3"
   ]
  },
  {
   "cell_type": "code",
   "execution_count": 11,
   "metadata": {},
   "outputs": [
    {
     "data": {
      "text/plain": [
       "<Axes: title={'center': 'Sensors'}, xlabel='Time'>"
      ]
     },
     "execution_count": 11,
     "metadata": {},
     "output_type": "execute_result"
    },
    {
     "data": {
      "image/png": "[encoded data removed]",
      "text/plain": [
       "<Figure size 640x480 with 1 Axes>"
      ]
     },
     "metadata": {},
     "output_type": "display_data"
    }
   ],
   "source": [
    "plottable_sense_3.plot(x=\"Time\", y=\"Temp\", kind=\"line\", title=\"Sensors\")"
   ]
  },
  {
   "cell_type": "markdown",
   "metadata": {},
   "source": [
    "### Combined plot of all sensors"
   ]
  },
  {
   "cell_type": "code",
   "execution_count": 8,
   "metadata": {},
   "outputs": [
    {
     "data": {
      "image/png": "[encoded data removed]",
      "text/plain": [
       "<Figure size 640x480 with 3 Axes>"
      ]
     },
     "metadata": {},
     "output_type": "display_data"
    }
   ],
   "source": [
    "plotFigure = plt.figure()\n",
    "\n",
    "plot1 = plotFigure.add_subplot(221)\n",
    "plot1.set_title(\"Sensor1\")\n",
    "plot1.plot(plottable_sense_1[\"Time\"], plottable_sense_1[\"Temp\"])\n",
    "\n",
    "plot2 = plotFigure.add_subplot(222)\n",
    "plot2.set_title(\"Sensor2\")\n",
    "plot2.plot(plottable_sense_2[\"Time\"], plottable_sense_2[\"Temp\"])\n",
    "\n",
    "plot3 = plotFigure.add_subplot(223)\n",
    "plot3.set_title(\"Sensor3\")\n",
    "plot3.plot(plottable_sense_3[\"Time\"], plottable_sense_3[\"Temp\"])\n",
    "\n",
    "plotFigure.tight_layout(h_pad=2)\n"
   ]
  }
 ],
 "metadata": {
  "kernelspec": {
   "display_name": "Python 3 (ipykernel)",
   "language": "python",
   "name": "python3"
  },
  "language_info": {
   "codemirror_mode": {
    "name": "ipython",
    "version": 3
   },
   "file_extension": ".py",
   "mimetype": "text/x-python",
   "name": "python",
   "nbconvert_exporter": "python",
   "pygments_lexer": "ipython3",
   "version": "3.11.4"
  }
 },
 "nbformat": 4,
 "nbformat_minor": 2
}
